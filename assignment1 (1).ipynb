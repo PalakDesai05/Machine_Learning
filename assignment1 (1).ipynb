{
 "cells": [
  {
   "cell_type": "code",
   "execution_count": 2,
   "id": "73b72419-534c-4532-b7aa-c1548fbcc41f",
   "metadata": {},
   "outputs": [],
   "source": [
    "import pandas as pd \n",
    "import numpy as np\n",
    "import matplotlib.pylab as plt\n",
    "import seaborn as sns\n",
    "\n",
    "import warnings\n",
    "warnings.filterwarnings('ignore')"
   ]
  },
  {
   "cell_type": "code",
   "execution_count": 3,
   "id": "1c1740e8-93c6-4738-86b5-2041bf2fd3a1",
   "metadata": {},
   "outputs": [],
   "source": [
    "data=pd.read_csv(\"C:/Users/harsh/Documents/ML/used_cars_data.csv\")"
   ]
  },
  {
   "cell_type": "code",
   "execution_count": 4,
   "id": "73c8593f-6544-4b11-80c3-5298e5ca3ea9",
   "metadata": {},
   "outputs": [
    {
     "name": "stdout",
     "output_type": "stream",
     "text": [
      "   S.No.                              Name    Location  Year  \\\n",
      "0      0            Maruti Wagon R LXI CNG      Mumbai  2010   \n",
      "1      1  Hyundai Creta 1.6 CRDi SX Option        Pune  2015   \n",
      "2      2                      Honda Jazz V     Chennai  2011   \n",
      "3      3                 Maruti Ertiga VDI     Chennai  2012   \n",
      "4      4   Audi A4 New 2.0 TDI Multitronic  Coimbatore  2013   \n",
      "\n",
      "   Kilometers_Driven Fuel_Type Transmission Owner_Type     Mileage   Engine  \\\n",
      "0              72000       CNG       Manual      First  26.6 km/kg   998 CC   \n",
      "1              41000    Diesel       Manual      First  19.67 kmpl  1582 CC   \n",
      "2              46000    Petrol       Manual      First   18.2 kmpl  1199 CC   \n",
      "3              87000    Diesel       Manual      First  20.77 kmpl  1248 CC   \n",
      "4              40670    Diesel    Automatic     Second   15.2 kmpl  1968 CC   \n",
      "\n",
      "       Power  Seats  New_Price  Price  \n",
      "0  58.16 bhp    5.0        NaN   1.75  \n",
      "1  126.2 bhp    5.0        NaN  12.50  \n",
      "2   88.7 bhp    5.0  8.61 Lakh   4.50  \n",
      "3  88.76 bhp    7.0        NaN   6.00  \n",
      "4  140.8 bhp    5.0        NaN  17.74  \n"
     ]
    }
   ],
   "source": [
    "print(data.head())"
   ]
  },
  {
   "cell_type": "code",
   "execution_count": 5,
   "id": "7f2290a9-7f60-442e-8e21-464528589fe9",
   "metadata": {},
   "outputs": [
    {
     "name": "stdout",
     "output_type": "stream",
     "text": [
      "      S.No.                                               Name   Location  \\\n",
      "7248   7248                  Volkswagen Vento Diesel Trendline  Hyderabad   \n",
      "7249   7249                             Volkswagen Polo GT TSI     Mumbai   \n",
      "7250   7250                             Nissan Micra Diesel XV    Kolkata   \n",
      "7251   7251                             Volkswagen Polo GT TSI       Pune   \n",
      "7252   7252  Mercedes-Benz E-Class 2009-2013 E 220 CDI Avan...      Kochi   \n",
      "\n",
      "      Year  Kilometers_Driven Fuel_Type Transmission Owner_Type     Mileage  \\\n",
      "7248  2011              89411    Diesel       Manual      First  20.54 kmpl   \n",
      "7249  2015              59000    Petrol    Automatic      First  17.21 kmpl   \n",
      "7250  2012              28000    Diesel       Manual      First  23.08 kmpl   \n",
      "7251  2013              52262    Petrol    Automatic      Third   17.2 kmpl   \n",
      "7252  2014              72443    Diesel    Automatic      First   10.0 kmpl   \n",
      "\n",
      "       Engine      Power  Seats New_Price  Price  \n",
      "7248  1598 CC  103.6 bhp    5.0       NaN    NaN  \n",
      "7249  1197 CC  103.6 bhp    5.0       NaN    NaN  \n",
      "7250  1461 CC   63.1 bhp    5.0       NaN    NaN  \n",
      "7251  1197 CC  103.6 bhp    5.0       NaN    NaN  \n",
      "7252  2148 CC    170 bhp    5.0       NaN    NaN  \n"
     ]
    }
   ],
   "source": [
    "print(data.tail())"
   ]
  },
  {
   "cell_type": "code",
   "execution_count": 6,
   "id": "0f8d00d6-7fe2-4d28-91d1-f9a3505ba49a",
   "metadata": {},
   "outputs": [
    {
     "name": "stdout",
     "output_type": "stream",
     "text": [
      "<class 'pandas.core.frame.DataFrame'>\n",
      "RangeIndex: 7253 entries, 0 to 7252\n",
      "Data columns (total 14 columns):\n",
      " #   Column             Non-Null Count  Dtype  \n",
      "---  ------             --------------  -----  \n",
      " 0   S.No.              7253 non-null   int64  \n",
      " 1   Name               7253 non-null   object \n",
      " 2   Location           7253 non-null   object \n",
      " 3   Year               7253 non-null   int64  \n",
      " 4   Kilometers_Driven  7253 non-null   int64  \n",
      " 5   Fuel_Type          7253 non-null   object \n",
      " 6   Transmission       7253 non-null   object \n",
      " 7   Owner_Type         7253 non-null   object \n",
      " 8   Mileage            7251 non-null   object \n",
      " 9   Engine             7207 non-null   object \n",
      " 10  Power              7207 non-null   object \n",
      " 11  Seats              7200 non-null   float64\n",
      " 12  New_Price          1006 non-null   object \n",
      " 13  Price              6019 non-null   float64\n",
      "dtypes: float64(2), int64(3), object(9)\n",
      "memory usage: 793.4+ KB\n",
      "None\n"
     ]
    }
   ],
   "source": [
    "print(data.info())"
   ]
  },
  {
   "cell_type": "code",
   "execution_count": 7,
   "id": "cab65b3d-67b7-410b-8c73-a4d65af3b09d",
   "metadata": {},
   "outputs": [
    {
     "name": "stdout",
     "output_type": "stream",
     "text": [
      "S.No.                7253\n",
      "Name                 2041\n",
      "Location               11\n",
      "Year                   23\n",
      "Kilometers_Driven    3660\n",
      "Fuel_Type               5\n",
      "Transmission            2\n",
      "Owner_Type              4\n",
      "Mileage               450\n",
      "Engine                150\n",
      "Power                 386\n",
      "Seats                   9\n",
      "New_Price             625\n",
      "Price                1373\n",
      "dtype: int64\n"
     ]
    }
   ],
   "source": [
    "print(data.nunique())"
   ]
  },
  {
   "cell_type": "code",
   "execution_count": 8,
   "id": "364c5206-835d-446b-8659-6d2ddc93a0e3",
   "metadata": {},
   "outputs": [
    {
     "data": {
      "text/plain": [
       "S.No.                 0.000000\n",
       "Name                  0.000000\n",
       "Location              0.000000\n",
       "Year                  0.000000\n",
       "Kilometers_Driven     0.000000\n",
       "Fuel_Type             0.000000\n",
       "Transmission          0.000000\n",
       "Owner_Type            0.000000\n",
       "Mileage               0.027575\n",
       "Engine                0.634220\n",
       "Power                 0.634220\n",
       "Seats                 0.730732\n",
       "New_Price            86.129877\n",
       "Price                17.013650\n",
       "dtype: float64"
      ]
     },
     "execution_count": 8,
     "metadata": {},
     "output_type": "execute_result"
    }
   ],
   "source": [
    "(data.isnull().sum()/(len(data)))*100"
   ]
  },
  {
   "cell_type": "code",
   "execution_count": 9,
   "id": "9ec7bc87-fef6-4749-8ec2-3956c2d0f0bf",
   "metadata": {},
   "outputs": [
    {
     "name": "stdout",
     "output_type": "stream",
     "text": [
      "<class 'pandas.core.frame.DataFrame'>\n",
      "RangeIndex: 7253 entries, 0 to 7252\n",
      "Data columns (total 13 columns):\n",
      " #   Column             Non-Null Count  Dtype  \n",
      "---  ------             --------------  -----  \n",
      " 0   Name               7253 non-null   object \n",
      " 1   Location           7253 non-null   object \n",
      " 2   Year               7253 non-null   int64  \n",
      " 3   Kilometers_Driven  7253 non-null   int64  \n",
      " 4   Fuel_Type          7253 non-null   object \n",
      " 5   Transmission       7253 non-null   object \n",
      " 6   Owner_Type         7253 non-null   object \n",
      " 7   Mileage            7251 non-null   object \n",
      " 8   Engine             7207 non-null   object \n",
      " 9   Power              7207 non-null   object \n",
      " 10  Seats              7200 non-null   float64\n",
      " 11  New_Price          1006 non-null   object \n",
      " 12  Price              6019 non-null   float64\n",
      "dtypes: float64(2), int64(2), object(9)\n",
      "memory usage: 736.8+ KB\n",
      "None\n"
     ]
    }
   ],
   "source": [
    "data=data.drop(['S.No.'],axis=1)\n",
    "print(data.info())"
   ]
  },
  {
   "cell_type": "code",
   "execution_count": 10,
   "id": "d90c64dc-b005-43b2-965b-c078757617bf",
   "metadata": {},
   "outputs": [
    {
     "name": "stdout",
     "output_type": "stream",
     "text": [
      "<bound method NDFrame.head of                                                    Name    Location  Year  \\\n",
      "0                                Maruti Wagon R LXI CNG      Mumbai  2010   \n",
      "1                      Hyundai Creta 1.6 CRDi SX Option        Pune  2015   \n",
      "2                                          Honda Jazz V     Chennai  2011   \n",
      "3                                     Maruti Ertiga VDI     Chennai  2012   \n",
      "4                       Audi A4 New 2.0 TDI Multitronic  Coimbatore  2013   \n",
      "...                                                 ...         ...   ...   \n",
      "7248                  Volkswagen Vento Diesel Trendline   Hyderabad  2011   \n",
      "7249                             Volkswagen Polo GT TSI      Mumbai  2015   \n",
      "7250                             Nissan Micra Diesel XV     Kolkata  2012   \n",
      "7251                             Volkswagen Polo GT TSI        Pune  2013   \n",
      "7252  Mercedes-Benz E-Class 2009-2013 E 220 CDI Avan...       Kochi  2014   \n",
      "\n",
      "      Kilometers_Driven Fuel_Type Transmission Owner_Type     Mileage  \\\n",
      "0                 72000       CNG       Manual      First  26.6 km/kg   \n",
      "1                 41000    Diesel       Manual      First  19.67 kmpl   \n",
      "2                 46000    Petrol       Manual      First   18.2 kmpl   \n",
      "3                 87000    Diesel       Manual      First  20.77 kmpl   \n",
      "4                 40670    Diesel    Automatic     Second   15.2 kmpl   \n",
      "...                 ...       ...          ...        ...         ...   \n",
      "7248              89411    Diesel       Manual      First  20.54 kmpl   \n",
      "7249              59000    Petrol    Automatic      First  17.21 kmpl   \n",
      "7250              28000    Diesel       Manual      First  23.08 kmpl   \n",
      "7251              52262    Petrol    Automatic      Third   17.2 kmpl   \n",
      "7252              72443    Diesel    Automatic      First   10.0 kmpl   \n",
      "\n",
      "       Engine      Power  Seats  New_Price  Price  Car_Age  \n",
      "0      998 CC  58.16 bhp    5.0        NaN   1.75       15  \n",
      "1     1582 CC  126.2 bhp    5.0        NaN  12.50       10  \n",
      "2     1199 CC   88.7 bhp    5.0  8.61 Lakh   4.50       14  \n",
      "3     1248 CC  88.76 bhp    7.0        NaN   6.00       13  \n",
      "4     1968 CC  140.8 bhp    5.0        NaN  17.74       12  \n",
      "...       ...        ...    ...        ...    ...      ...  \n",
      "7248  1598 CC  103.6 bhp    5.0        NaN    NaN       14  \n",
      "7249  1197 CC  103.6 bhp    5.0        NaN    NaN       10  \n",
      "7250  1461 CC   63.1 bhp    5.0        NaN    NaN       13  \n",
      "7251  1197 CC  103.6 bhp    5.0        NaN    NaN       12  \n",
      "7252  2148 CC    170 bhp    5.0        NaN    NaN       11  \n",
      "\n",
      "[7253 rows x 14 columns]>\n"
     ]
    }
   ],
   "source": [
    "from datetime import date \n",
    "date.today().year\n",
    "data['Car_Age']=date.today().year-data['Year']\n",
    "print(data.head)"
   ]
  },
  {
   "cell_type": "code",
   "execution_count": 11,
   "id": "e8890902-4dbd-4565-884e-5fcdf7ffa1d7",
   "metadata": {},
   "outputs": [
    {
     "data": {
      "text/html": [
       "<div>\n",
       "<style scoped>\n",
       "    .dataframe tbody tr th:only-of-type {\n",
       "        vertical-align: middle;\n",
       "    }\n",
       "\n",
       "    .dataframe tbody tr th {\n",
       "        vertical-align: top;\n",
       "    }\n",
       "\n",
       "    .dataframe thead th {\n",
       "        text-align: right;\n",
       "    }\n",
       "</style>\n",
       "<table border=\"1\" class=\"dataframe\">\n",
       "  <thead>\n",
       "    <tr style=\"text-align: right;\">\n",
       "      <th></th>\n",
       "      <th>Name</th>\n",
       "      <th>Brand</th>\n",
       "      <th>Model</th>\n",
       "    </tr>\n",
       "  </thead>\n",
       "  <tbody>\n",
       "    <tr>\n",
       "      <th>0</th>\n",
       "      <td>Maruti Wagon R LXI CNG</td>\n",
       "      <td>Maruti</td>\n",
       "      <td>WagonR</td>\n",
       "    </tr>\n",
       "    <tr>\n",
       "      <th>1</th>\n",
       "      <td>Hyundai Creta 1.6 CRDi SX Option</td>\n",
       "      <td>Hyundai</td>\n",
       "      <td>Creta1.6</td>\n",
       "    </tr>\n",
       "    <tr>\n",
       "      <th>2</th>\n",
       "      <td>Honda Jazz V</td>\n",
       "      <td>Honda</td>\n",
       "      <td>JazzV</td>\n",
       "    </tr>\n",
       "    <tr>\n",
       "      <th>3</th>\n",
       "      <td>Maruti Ertiga VDI</td>\n",
       "      <td>Maruti</td>\n",
       "      <td>ErtigaVDI</td>\n",
       "    </tr>\n",
       "    <tr>\n",
       "      <th>4</th>\n",
       "      <td>Audi A4 New 2.0 TDI Multitronic</td>\n",
       "      <td>Audi</td>\n",
       "      <td>A4New</td>\n",
       "    </tr>\n",
       "    <tr>\n",
       "      <th>...</th>\n",
       "      <td>...</td>\n",
       "      <td>...</td>\n",
       "      <td>...</td>\n",
       "    </tr>\n",
       "    <tr>\n",
       "      <th>7248</th>\n",
       "      <td>Volkswagen Vento Diesel Trendline</td>\n",
       "      <td>Volkswagen</td>\n",
       "      <td>VentoDiesel</td>\n",
       "    </tr>\n",
       "    <tr>\n",
       "      <th>7249</th>\n",
       "      <td>Volkswagen Polo GT TSI</td>\n",
       "      <td>Volkswagen</td>\n",
       "      <td>PoloGT</td>\n",
       "    </tr>\n",
       "    <tr>\n",
       "      <th>7250</th>\n",
       "      <td>Nissan Micra Diesel XV</td>\n",
       "      <td>Nissan</td>\n",
       "      <td>MicraDiesel</td>\n",
       "    </tr>\n",
       "    <tr>\n",
       "      <th>7251</th>\n",
       "      <td>Volkswagen Polo GT TSI</td>\n",
       "      <td>Volkswagen</td>\n",
       "      <td>PoloGT</td>\n",
       "    </tr>\n",
       "    <tr>\n",
       "      <th>7252</th>\n",
       "      <td>Mercedes-Benz E-Class 2009-2013 E 220 CDI Avan...</td>\n",
       "      <td>Mercedes-Benz</td>\n",
       "      <td>E-Class2009-2013</td>\n",
       "    </tr>\n",
       "  </tbody>\n",
       "</table>\n",
       "<p>7253 rows × 3 columns</p>\n",
       "</div>"
      ],
      "text/plain": [
       "                                                   Name          Brand  \\\n",
       "0                                Maruti Wagon R LXI CNG         Maruti   \n",
       "1                      Hyundai Creta 1.6 CRDi SX Option        Hyundai   \n",
       "2                                          Honda Jazz V          Honda   \n",
       "3                                     Maruti Ertiga VDI         Maruti   \n",
       "4                       Audi A4 New 2.0 TDI Multitronic           Audi   \n",
       "...                                                 ...            ...   \n",
       "7248                  Volkswagen Vento Diesel Trendline     Volkswagen   \n",
       "7249                             Volkswagen Polo GT TSI     Volkswagen   \n",
       "7250                             Nissan Micra Diesel XV         Nissan   \n",
       "7251                             Volkswagen Polo GT TSI     Volkswagen   \n",
       "7252  Mercedes-Benz E-Class 2009-2013 E 220 CDI Avan...  Mercedes-Benz   \n",
       "\n",
       "                 Model  \n",
       "0               WagonR  \n",
       "1             Creta1.6  \n",
       "2                JazzV  \n",
       "3            ErtigaVDI  \n",
       "4                A4New  \n",
       "...                ...  \n",
       "7248       VentoDiesel  \n",
       "7249            PoloGT  \n",
       "7250       MicraDiesel  \n",
       "7251            PoloGT  \n",
       "7252  E-Class2009-2013  \n",
       "\n",
       "[7253 rows x 3 columns]"
      ]
     },
     "execution_count": 11,
     "metadata": {},
     "output_type": "execute_result"
    }
   ],
   "source": [
    "data['Brand'] = data.Name.str.split().str.get(0)\n",
    "data['Model'] = data.Name.str.split().str.get(1) + data.Name.str.split().str.get(2)\n",
    "data[['Name','Brand','Model']]"
   ]
  },
  {
   "cell_type": "code",
   "execution_count": 12,
   "id": "ec9f14c4-8699-48ac-a110-e335940d6545",
   "metadata": {},
   "outputs": [
    {
     "name": "stdout",
     "output_type": "stream",
     "text": [
      "['Maruti' 'Hyundai' 'Honda' 'Audi' 'Nissan' 'Toyota' 'Volkswagen' 'Tata'\n",
      " 'Land' 'Mitsubishi' 'Renault' 'Mercedes-Benz' 'BMW' 'Mahindra' 'Ford'\n",
      " 'Porsche' 'Datsun' 'Jaguar' 'Volvo' 'Chevrolet' 'Skoda' 'Mini' 'Fiat'\n",
      " 'Jeep' 'Smart' 'Ambassador' 'Isuzu' 'ISUZU' 'Force' 'Bentley'\n",
      " 'Lamborghini' 'Hindustan' 'OpelCorsa']\n"
     ]
    }
   ],
   "source": [
    "print(data.Brand.unique())"
   ]
  },
  {
   "cell_type": "code",
   "execution_count": 13,
   "id": "401d7dac-aad6-4345-bc6d-66085c5936a8",
   "metadata": {},
   "outputs": [
    {
     "name": "stdout",
     "output_type": "stream",
     "text": [
      "33\n"
     ]
    }
   ],
   "source": [
    "print(data.Brand.nunique())"
   ]
  },
  {
   "cell_type": "code",
   "execution_count": 14,
   "id": "eeade3ce-9ebc-49bd-939e-54bcff926e49",
   "metadata": {},
   "outputs": [],
   "source": [
    "searchfor=['Isuzu' ,'ISUZU','Mini','Land']"
   ]
  },
  {
   "cell_type": "code",
   "execution_count": 15,
   "id": "260293b9-db03-48e9-b58d-9d684e7d51df",
   "metadata": {},
   "outputs": [
    {
     "data": {
      "text/html": [
       "<div>\n",
       "<style scoped>\n",
       "    .dataframe tbody tr th:only-of-type {\n",
       "        vertical-align: middle;\n",
       "    }\n",
       "\n",
       "    .dataframe tbody tr th {\n",
       "        vertical-align: top;\n",
       "    }\n",
       "\n",
       "    .dataframe thead th {\n",
       "        text-align: right;\n",
       "    }\n",
       "</style>\n",
       "<table border=\"1\" class=\"dataframe\">\n",
       "  <thead>\n",
       "    <tr style=\"text-align: right;\">\n",
       "      <th></th>\n",
       "      <th>Name</th>\n",
       "      <th>Location</th>\n",
       "      <th>Year</th>\n",
       "      <th>Kilometers_Driven</th>\n",
       "      <th>Fuel_Type</th>\n",
       "      <th>Transmission</th>\n",
       "      <th>Owner_Type</th>\n",
       "      <th>Mileage</th>\n",
       "      <th>Engine</th>\n",
       "      <th>Power</th>\n",
       "      <th>Seats</th>\n",
       "      <th>New_Price</th>\n",
       "      <th>Price</th>\n",
       "      <th>Car_Age</th>\n",
       "      <th>Brand</th>\n",
       "      <th>Model</th>\n",
       "    </tr>\n",
       "  </thead>\n",
       "  <tbody>\n",
       "    <tr>\n",
       "      <th>13</th>\n",
       "      <td>Land Rover Range Rover 2.2L Pure</td>\n",
       "      <td>Delhi</td>\n",
       "      <td>2014</td>\n",
       "      <td>72000</td>\n",
       "      <td>Diesel</td>\n",
       "      <td>Automatic</td>\n",
       "      <td>First</td>\n",
       "      <td>12.7 kmpl</td>\n",
       "      <td>2179 CC</td>\n",
       "      <td>187.7 bhp</td>\n",
       "      <td>5.0</td>\n",
       "      <td>NaN</td>\n",
       "      <td>27.00</td>\n",
       "      <td>11</td>\n",
       "      <td>Land</td>\n",
       "      <td>RoverRange</td>\n",
       "    </tr>\n",
       "    <tr>\n",
       "      <th>14</th>\n",
       "      <td>Land Rover Freelander 2 TD4 SE</td>\n",
       "      <td>Pune</td>\n",
       "      <td>2012</td>\n",
       "      <td>85000</td>\n",
       "      <td>Diesel</td>\n",
       "      <td>Automatic</td>\n",
       "      <td>Second</td>\n",
       "      <td>0.0 kmpl</td>\n",
       "      <td>2179 CC</td>\n",
       "      <td>115 bhp</td>\n",
       "      <td>5.0</td>\n",
       "      <td>NaN</td>\n",
       "      <td>17.50</td>\n",
       "      <td>13</td>\n",
       "      <td>Land</td>\n",
       "      <td>RoverFreelander</td>\n",
       "    </tr>\n",
       "    <tr>\n",
       "      <th>176</th>\n",
       "      <td>Mini Countryman Cooper D</td>\n",
       "      <td>Jaipur</td>\n",
       "      <td>2017</td>\n",
       "      <td>8525</td>\n",
       "      <td>Diesel</td>\n",
       "      <td>Automatic</td>\n",
       "      <td>Second</td>\n",
       "      <td>16.6 kmpl</td>\n",
       "      <td>1998 CC</td>\n",
       "      <td>112 bhp</td>\n",
       "      <td>5.0</td>\n",
       "      <td>NaN</td>\n",
       "      <td>23.00</td>\n",
       "      <td>8</td>\n",
       "      <td>Mini</td>\n",
       "      <td>CountrymanCooper</td>\n",
       "    </tr>\n",
       "    <tr>\n",
       "      <th>191</th>\n",
       "      <td>Land Rover Range Rover 2.2L Dynamic</td>\n",
       "      <td>Coimbatore</td>\n",
       "      <td>2018</td>\n",
       "      <td>36091</td>\n",
       "      <td>Diesel</td>\n",
       "      <td>Automatic</td>\n",
       "      <td>First</td>\n",
       "      <td>12.7 kmpl</td>\n",
       "      <td>2179 CC</td>\n",
       "      <td>187.7 bhp</td>\n",
       "      <td>5.0</td>\n",
       "      <td>NaN</td>\n",
       "      <td>55.76</td>\n",
       "      <td>7</td>\n",
       "      <td>Land</td>\n",
       "      <td>RoverRange</td>\n",
       "    </tr>\n",
       "    <tr>\n",
       "      <th>228</th>\n",
       "      <td>Mini Cooper Convertible S</td>\n",
       "      <td>Kochi</td>\n",
       "      <td>2017</td>\n",
       "      <td>26327</td>\n",
       "      <td>Petrol</td>\n",
       "      <td>Automatic</td>\n",
       "      <td>First</td>\n",
       "      <td>16.82 kmpl</td>\n",
       "      <td>1998 CC</td>\n",
       "      <td>189.08 bhp</td>\n",
       "      <td>4.0</td>\n",
       "      <td>44.28 Lakh</td>\n",
       "      <td>35.67</td>\n",
       "      <td>8</td>\n",
       "      <td>Mini</td>\n",
       "      <td>CooperConvertible</td>\n",
       "    </tr>\n",
       "  </tbody>\n",
       "</table>\n",
       "</div>"
      ],
      "text/plain": [
       "                                    Name    Location  Year  Kilometers_Driven  \\\n",
       "13      Land Rover Range Rover 2.2L Pure       Delhi  2014              72000   \n",
       "14        Land Rover Freelander 2 TD4 SE        Pune  2012              85000   \n",
       "176             Mini Countryman Cooper D      Jaipur  2017               8525   \n",
       "191  Land Rover Range Rover 2.2L Dynamic  Coimbatore  2018              36091   \n",
       "228            Mini Cooper Convertible S       Kochi  2017              26327   \n",
       "\n",
       "    Fuel_Type Transmission Owner_Type     Mileage   Engine       Power  Seats  \\\n",
       "13     Diesel    Automatic      First   12.7 kmpl  2179 CC   187.7 bhp    5.0   \n",
       "14     Diesel    Automatic     Second    0.0 kmpl  2179 CC     115 bhp    5.0   \n",
       "176    Diesel    Automatic     Second   16.6 kmpl  1998 CC     112 bhp    5.0   \n",
       "191    Diesel    Automatic      First   12.7 kmpl  2179 CC   187.7 bhp    5.0   \n",
       "228    Petrol    Automatic      First  16.82 kmpl  1998 CC  189.08 bhp    4.0   \n",
       "\n",
       "      New_Price  Price  Car_Age Brand              Model  \n",
       "13          NaN  27.00       11  Land         RoverRange  \n",
       "14          NaN  17.50       13  Land    RoverFreelander  \n",
       "176         NaN  23.00        8  Mini   CountrymanCooper  \n",
       "191         NaN  55.76        7  Land         RoverRange  \n",
       "228  44.28 Lakh  35.67        8  Mini  CooperConvertible  "
      ]
     },
     "execution_count": 15,
     "metadata": {},
     "output_type": "execute_result"
    }
   ],
   "source": [
    "data[data.Brand.str.contains('|'.join(searchfor))].head(5)\n"
   ]
  },
  {
   "cell_type": "code",
   "execution_count": 16,
   "id": "9dce2405-3412-4cf3-8350-6f150b06958a",
   "metadata": {},
   "outputs": [],
   "source": [
    "data[\"Brand\"].replace({\"ISUZU\": \"Isuzu\", \"Mini\": \"Mini Cooper\",\"Land\":\"Land Rover\"}, inplace=True)"
   ]
  },
  {
   "cell_type": "code",
   "execution_count": 17,
   "id": "8f23f807-7f0d-44a4-89f2-ff29e3d32760",
   "metadata": {},
   "outputs": [
    {
     "data": {
      "text/html": [
       "<div>\n",
       "<style scoped>\n",
       "    .dataframe tbody tr th:only-of-type {\n",
       "        vertical-align: middle;\n",
       "    }\n",
       "\n",
       "    .dataframe tbody tr th {\n",
       "        vertical-align: top;\n",
       "    }\n",
       "\n",
       "    .dataframe thead th {\n",
       "        text-align: right;\n",
       "    }\n",
       "</style>\n",
       "<table border=\"1\" class=\"dataframe\">\n",
       "  <thead>\n",
       "    <tr style=\"text-align: right;\">\n",
       "      <th></th>\n",
       "      <th>count</th>\n",
       "      <th>mean</th>\n",
       "      <th>std</th>\n",
       "      <th>min</th>\n",
       "      <th>25%</th>\n",
       "      <th>50%</th>\n",
       "      <th>75%</th>\n",
       "      <th>max</th>\n",
       "    </tr>\n",
       "  </thead>\n",
       "  <tbody>\n",
       "    <tr>\n",
       "      <th>Year</th>\n",
       "      <td>7253.0</td>\n",
       "      <td>2013.365366</td>\n",
       "      <td>3.254421</td>\n",
       "      <td>1996.00</td>\n",
       "      <td>2011.0</td>\n",
       "      <td>2014.00</td>\n",
       "      <td>2016.00</td>\n",
       "      <td>2019.0</td>\n",
       "    </tr>\n",
       "    <tr>\n",
       "      <th>Kilometers_Driven</th>\n",
       "      <td>7253.0</td>\n",
       "      <td>58699.063146</td>\n",
       "      <td>84427.720583</td>\n",
       "      <td>171.00</td>\n",
       "      <td>34000.0</td>\n",
       "      <td>53416.00</td>\n",
       "      <td>73000.00</td>\n",
       "      <td>6500000.0</td>\n",
       "    </tr>\n",
       "    <tr>\n",
       "      <th>Seats</th>\n",
       "      <td>7200.0</td>\n",
       "      <td>5.279722</td>\n",
       "      <td>0.811660</td>\n",
       "      <td>0.00</td>\n",
       "      <td>5.0</td>\n",
       "      <td>5.00</td>\n",
       "      <td>5.00</td>\n",
       "      <td>10.0</td>\n",
       "    </tr>\n",
       "    <tr>\n",
       "      <th>Price</th>\n",
       "      <td>6019.0</td>\n",
       "      <td>9.479468</td>\n",
       "      <td>11.187917</td>\n",
       "      <td>0.44</td>\n",
       "      <td>3.5</td>\n",
       "      <td>5.64</td>\n",
       "      <td>9.95</td>\n",
       "      <td>160.0</td>\n",
       "    </tr>\n",
       "    <tr>\n",
       "      <th>Car_Age</th>\n",
       "      <td>7253.0</td>\n",
       "      <td>11.634634</td>\n",
       "      <td>3.254421</td>\n",
       "      <td>6.00</td>\n",
       "      <td>9.0</td>\n",
       "      <td>11.00</td>\n",
       "      <td>14.00</td>\n",
       "      <td>29.0</td>\n",
       "    </tr>\n",
       "  </tbody>\n",
       "</table>\n",
       "</div>"
      ],
      "text/plain": [
       "                    count          mean           std      min      25%  \\\n",
       "Year               7253.0   2013.365366      3.254421  1996.00   2011.0   \n",
       "Kilometers_Driven  7253.0  58699.063146  84427.720583   171.00  34000.0   \n",
       "Seats              7200.0      5.279722      0.811660     0.00      5.0   \n",
       "Price              6019.0      9.479468     11.187917     0.44      3.5   \n",
       "Car_Age            7253.0     11.634634      3.254421     6.00      9.0   \n",
       "\n",
       "                        50%       75%        max  \n",
       "Year                2014.00   2016.00     2019.0  \n",
       "Kilometers_Driven  53416.00  73000.00  6500000.0  \n",
       "Seats                  5.00      5.00       10.0  \n",
       "Price                  5.64      9.95      160.0  \n",
       "Car_Age               11.00     14.00       29.0  "
      ]
     },
     "execution_count": 17,
     "metadata": {},
     "output_type": "execute_result"
    }
   ],
   "source": [
    "data.describe().T"
   ]
  },
  {
   "cell_type": "code",
   "execution_count": 18,
   "id": "8fb8db1e-3a07-4a64-88c9-cce42172c1a9",
   "metadata": {},
   "outputs": [
    {
     "data": {
      "text/html": [
       "<div>\n",
       "<style scoped>\n",
       "    .dataframe tbody tr th:only-of-type {\n",
       "        vertical-align: middle;\n",
       "    }\n",
       "\n",
       "    .dataframe tbody tr th {\n",
       "        vertical-align: top;\n",
       "    }\n",
       "\n",
       "    .dataframe thead th {\n",
       "        text-align: right;\n",
       "    }\n",
       "</style>\n",
       "<table border=\"1\" class=\"dataframe\">\n",
       "  <thead>\n",
       "    <tr style=\"text-align: right;\">\n",
       "      <th></th>\n",
       "      <th>count</th>\n",
       "      <th>unique</th>\n",
       "      <th>top</th>\n",
       "      <th>freq</th>\n",
       "      <th>mean</th>\n",
       "      <th>std</th>\n",
       "      <th>min</th>\n",
       "      <th>25%</th>\n",
       "      <th>50%</th>\n",
       "      <th>75%</th>\n",
       "      <th>max</th>\n",
       "    </tr>\n",
       "  </thead>\n",
       "  <tbody>\n",
       "    <tr>\n",
       "      <th>Name</th>\n",
       "      <td>7253</td>\n",
       "      <td>2041</td>\n",
       "      <td>Mahindra XUV500 W8 2WD</td>\n",
       "      <td>55</td>\n",
       "      <td>NaN</td>\n",
       "      <td>NaN</td>\n",
       "      <td>NaN</td>\n",
       "      <td>NaN</td>\n",
       "      <td>NaN</td>\n",
       "      <td>NaN</td>\n",
       "      <td>NaN</td>\n",
       "    </tr>\n",
       "    <tr>\n",
       "      <th>Location</th>\n",
       "      <td>7253</td>\n",
       "      <td>11</td>\n",
       "      <td>Mumbai</td>\n",
       "      <td>949</td>\n",
       "      <td>NaN</td>\n",
       "      <td>NaN</td>\n",
       "      <td>NaN</td>\n",
       "      <td>NaN</td>\n",
       "      <td>NaN</td>\n",
       "      <td>NaN</td>\n",
       "      <td>NaN</td>\n",
       "    </tr>\n",
       "    <tr>\n",
       "      <th>Year</th>\n",
       "      <td>7253.0</td>\n",
       "      <td>NaN</td>\n",
       "      <td>NaN</td>\n",
       "      <td>NaN</td>\n",
       "      <td>2013.365366</td>\n",
       "      <td>3.254421</td>\n",
       "      <td>1996.0</td>\n",
       "      <td>2011.0</td>\n",
       "      <td>2014.0</td>\n",
       "      <td>2016.0</td>\n",
       "      <td>2019.0</td>\n",
       "    </tr>\n",
       "    <tr>\n",
       "      <th>Kilometers_Driven</th>\n",
       "      <td>7253.0</td>\n",
       "      <td>NaN</td>\n",
       "      <td>NaN</td>\n",
       "      <td>NaN</td>\n",
       "      <td>58699.063146</td>\n",
       "      <td>84427.720583</td>\n",
       "      <td>171.0</td>\n",
       "      <td>34000.0</td>\n",
       "      <td>53416.0</td>\n",
       "      <td>73000.0</td>\n",
       "      <td>6500000.0</td>\n",
       "    </tr>\n",
       "    <tr>\n",
       "      <th>Fuel_Type</th>\n",
       "      <td>7253</td>\n",
       "      <td>5</td>\n",
       "      <td>Diesel</td>\n",
       "      <td>3852</td>\n",
       "      <td>NaN</td>\n",
       "      <td>NaN</td>\n",
       "      <td>NaN</td>\n",
       "      <td>NaN</td>\n",
       "      <td>NaN</td>\n",
       "      <td>NaN</td>\n",
       "      <td>NaN</td>\n",
       "    </tr>\n",
       "    <tr>\n",
       "      <th>Transmission</th>\n",
       "      <td>7253</td>\n",
       "      <td>2</td>\n",
       "      <td>Manual</td>\n",
       "      <td>5204</td>\n",
       "      <td>NaN</td>\n",
       "      <td>NaN</td>\n",
       "      <td>NaN</td>\n",
       "      <td>NaN</td>\n",
       "      <td>NaN</td>\n",
       "      <td>NaN</td>\n",
       "      <td>NaN</td>\n",
       "    </tr>\n",
       "    <tr>\n",
       "      <th>Owner_Type</th>\n",
       "      <td>7253</td>\n",
       "      <td>4</td>\n",
       "      <td>First</td>\n",
       "      <td>5952</td>\n",
       "      <td>NaN</td>\n",
       "      <td>NaN</td>\n",
       "      <td>NaN</td>\n",
       "      <td>NaN</td>\n",
       "      <td>NaN</td>\n",
       "      <td>NaN</td>\n",
       "      <td>NaN</td>\n",
       "    </tr>\n",
       "    <tr>\n",
       "      <th>Mileage</th>\n",
       "      <td>7251</td>\n",
       "      <td>450</td>\n",
       "      <td>17.0 kmpl</td>\n",
       "      <td>207</td>\n",
       "      <td>NaN</td>\n",
       "      <td>NaN</td>\n",
       "      <td>NaN</td>\n",
       "      <td>NaN</td>\n",
       "      <td>NaN</td>\n",
       "      <td>NaN</td>\n",
       "      <td>NaN</td>\n",
       "    </tr>\n",
       "    <tr>\n",
       "      <th>Engine</th>\n",
       "      <td>7207</td>\n",
       "      <td>150</td>\n",
       "      <td>1197 CC</td>\n",
       "      <td>732</td>\n",
       "      <td>NaN</td>\n",
       "      <td>NaN</td>\n",
       "      <td>NaN</td>\n",
       "      <td>NaN</td>\n",
       "      <td>NaN</td>\n",
       "      <td>NaN</td>\n",
       "      <td>NaN</td>\n",
       "    </tr>\n",
       "    <tr>\n",
       "      <th>Power</th>\n",
       "      <td>7207</td>\n",
       "      <td>386</td>\n",
       "      <td>74 bhp</td>\n",
       "      <td>280</td>\n",
       "      <td>NaN</td>\n",
       "      <td>NaN</td>\n",
       "      <td>NaN</td>\n",
       "      <td>NaN</td>\n",
       "      <td>NaN</td>\n",
       "      <td>NaN</td>\n",
       "      <td>NaN</td>\n",
       "    </tr>\n",
       "    <tr>\n",
       "      <th>Seats</th>\n",
       "      <td>7200.0</td>\n",
       "      <td>NaN</td>\n",
       "      <td>NaN</td>\n",
       "      <td>NaN</td>\n",
       "      <td>5.279722</td>\n",
       "      <td>0.81166</td>\n",
       "      <td>0.0</td>\n",
       "      <td>5.0</td>\n",
       "      <td>5.0</td>\n",
       "      <td>5.0</td>\n",
       "      <td>10.0</td>\n",
       "    </tr>\n",
       "    <tr>\n",
       "      <th>New_Price</th>\n",
       "      <td>1006</td>\n",
       "      <td>625</td>\n",
       "      <td>95.13 Lakh</td>\n",
       "      <td>6</td>\n",
       "      <td>NaN</td>\n",
       "      <td>NaN</td>\n",
       "      <td>NaN</td>\n",
       "      <td>NaN</td>\n",
       "      <td>NaN</td>\n",
       "      <td>NaN</td>\n",
       "      <td>NaN</td>\n",
       "    </tr>\n",
       "    <tr>\n",
       "      <th>Price</th>\n",
       "      <td>6019.0</td>\n",
       "      <td>NaN</td>\n",
       "      <td>NaN</td>\n",
       "      <td>NaN</td>\n",
       "      <td>9.479468</td>\n",
       "      <td>11.187917</td>\n",
       "      <td>0.44</td>\n",
       "      <td>3.5</td>\n",
       "      <td>5.64</td>\n",
       "      <td>9.95</td>\n",
       "      <td>160.0</td>\n",
       "    </tr>\n",
       "    <tr>\n",
       "      <th>Car_Age</th>\n",
       "      <td>7253.0</td>\n",
       "      <td>NaN</td>\n",
       "      <td>NaN</td>\n",
       "      <td>NaN</td>\n",
       "      <td>11.634634</td>\n",
       "      <td>3.254421</td>\n",
       "      <td>6.0</td>\n",
       "      <td>9.0</td>\n",
       "      <td>11.0</td>\n",
       "      <td>14.0</td>\n",
       "      <td>29.0</td>\n",
       "    </tr>\n",
       "    <tr>\n",
       "      <th>Brand</th>\n",
       "      <td>7253</td>\n",
       "      <td>32</td>\n",
       "      <td>Maruti</td>\n",
       "      <td>1444</td>\n",
       "      <td>NaN</td>\n",
       "      <td>NaN</td>\n",
       "      <td>NaN</td>\n",
       "      <td>NaN</td>\n",
       "      <td>NaN</td>\n",
       "      <td>NaN</td>\n",
       "      <td>NaN</td>\n",
       "    </tr>\n",
       "    <tr>\n",
       "      <th>Model</th>\n",
       "      <td>7252</td>\n",
       "      <td>726</td>\n",
       "      <td>SwiftDzire</td>\n",
       "      <td>189</td>\n",
       "      <td>NaN</td>\n",
       "      <td>NaN</td>\n",
       "      <td>NaN</td>\n",
       "      <td>NaN</td>\n",
       "      <td>NaN</td>\n",
       "      <td>NaN</td>\n",
       "      <td>NaN</td>\n",
       "    </tr>\n",
       "  </tbody>\n",
       "</table>\n",
       "</div>"
      ],
      "text/plain": [
       "                    count unique                     top  freq          mean  \\\n",
       "Name                 7253   2041  Mahindra XUV500 W8 2WD    55           NaN   \n",
       "Location             7253     11                  Mumbai   949           NaN   \n",
       "Year               7253.0    NaN                     NaN   NaN   2013.365366   \n",
       "Kilometers_Driven  7253.0    NaN                     NaN   NaN  58699.063146   \n",
       "Fuel_Type            7253      5                  Diesel  3852           NaN   \n",
       "Transmission         7253      2                  Manual  5204           NaN   \n",
       "Owner_Type           7253      4                   First  5952           NaN   \n",
       "Mileage              7251    450               17.0 kmpl   207           NaN   \n",
       "Engine               7207    150                 1197 CC   732           NaN   \n",
       "Power                7207    386                  74 bhp   280           NaN   \n",
       "Seats              7200.0    NaN                     NaN   NaN      5.279722   \n",
       "New_Price            1006    625              95.13 Lakh     6           NaN   \n",
       "Price              6019.0    NaN                     NaN   NaN      9.479468   \n",
       "Car_Age            7253.0    NaN                     NaN   NaN     11.634634   \n",
       "Brand                7253     32                  Maruti  1444           NaN   \n",
       "Model                7252    726              SwiftDzire   189           NaN   \n",
       "\n",
       "                            std     min      25%      50%      75%        max  \n",
       "Name                        NaN     NaN      NaN      NaN      NaN        NaN  \n",
       "Location                    NaN     NaN      NaN      NaN      NaN        NaN  \n",
       "Year                   3.254421  1996.0   2011.0   2014.0   2016.0     2019.0  \n",
       "Kilometers_Driven  84427.720583   171.0  34000.0  53416.0  73000.0  6500000.0  \n",
       "Fuel_Type                   NaN     NaN      NaN      NaN      NaN        NaN  \n",
       "Transmission                NaN     NaN      NaN      NaN      NaN        NaN  \n",
       "Owner_Type                  NaN     NaN      NaN      NaN      NaN        NaN  \n",
       "Mileage                     NaN     NaN      NaN      NaN      NaN        NaN  \n",
       "Engine                      NaN     NaN      NaN      NaN      NaN        NaN  \n",
       "Power                       NaN     NaN      NaN      NaN      NaN        NaN  \n",
       "Seats                   0.81166     0.0      5.0      5.0      5.0       10.0  \n",
       "New_Price                   NaN     NaN      NaN      NaN      NaN        NaN  \n",
       "Price                 11.187917    0.44      3.5     5.64     9.95      160.0  \n",
       "Car_Age                3.254421     6.0      9.0     11.0     14.0       29.0  \n",
       "Brand                       NaN     NaN      NaN      NaN      NaN        NaN  \n",
       "Model                       NaN     NaN      NaN      NaN      NaN        NaN  "
      ]
     },
     "execution_count": 18,
     "metadata": {},
     "output_type": "execute_result"
    }
   ],
   "source": [
    "data.describe(include='all').T"
   ]
  },
  {
   "cell_type": "code",
   "execution_count": 19,
   "id": "a616c558-de0a-4a31-b899-0a5ce4c82efa",
   "metadata": {},
   "outputs": [
    {
     "name": "stdout",
     "output_type": "stream",
     "text": [
      "Categorical Variables:\n",
      "Index(['Name', 'Location', 'Fuel_Type', 'Transmission', 'Owner_Type',\n",
      "       'Mileage', 'Engine', 'Power', 'New_Price', 'Brand', 'Model'],\n",
      "      dtype='object')\n",
      "Numerical Variables:\n",
      "['Year', 'Kilometers_Driven', 'Seats', 'Price', 'Car_Age']\n"
     ]
    }
   ],
   "source": [
    "cat_cols = data.select_dtypes(include=['object']).columns\n",
    "num_cols = data.select_dtypes(include=np.number).columns.tolist()\n",
    "print(\"Categorical Variables:\")\n",
    "print(cat_cols)\n",
    "print(\"Numerical Variables:\")\n",
    "print(num_cols)"
   ]
  },
  {
   "cell_type": "code",
   "execution_count": 20,
   "id": "33261a9b-a6b5-4f9d-9043-e38328ec884f",
   "metadata": {},
   "outputs": [
    {
     "data": {
      "image/png": "[encoded data removed]",
      "text/plain": [
       "<Figure size 640x480 with 1 Axes>"
      ]
     },
     "metadata": {},
     "output_type": "display_data"
    }
   ],
   "source": [
    "types=['Diesel','Petrol','CNG']\n",
    "values=[100,50,200]\n",
    "plt.bar(types,values)\n",
    "plt.xlabel(\"Fuel_Types\")\n",
    "plt.ylabel(\"values\")\n",
    "plt.title(\"Bar graph\")\n",
    "plt.show()"
   ]
  },
  {
   "cell_type": "code",
   "execution_count": 21,
   "id": "79383f3a-d0f0-4253-a23e-f2c6ede9d5b0",
   "metadata": {},
   "outputs": [
    {
     "data": {
      "image/png": "[encoded data removed]",
      "text/plain": [
       "<Figure size 640x480 with 1 Axes>"
      ]
     },
     "metadata": {},
     "output_type": "display_data"
    }
   ],
   "source": [
    "types=['Diesel','Petrol','CNG']\n",
    "values=[100,50,200]\n",
    "\n",
    "plt.pie(values, labels=types)\n",
    "plt.show()\n"
   ]
  },
  {
   "cell_type": "code",
   "execution_count": 22,
   "id": "ca5e0bf2-6b20-4d07-858a-d3478e71d31c",
   "metadata": {},
   "outputs": [
    {
     "data": {
      "text/plain": [
       "Fuel_Type\n",
       "Diesel      3852\n",
       "Petrol      3325\n",
       "CNG           62\n",
       "LPG           12\n",
       "Electric       2\n",
       "Name: count, dtype: int64"
      ]
     },
     "execution_count": 22,
     "metadata": {},
     "output_type": "execute_result"
    }
   ],
   "source": [
    "data['Fuel_Type'].value_counts()"
   ]
  },
  {
   "cell_type": "code",
   "execution_count": 23,
   "id": "f3e3f747-f6e7-4b34-8209-1eef7dd0631e",
   "metadata": {},
   "outputs": [
    {
     "data": {
      "image/png": "[encoded data removed]",
      "text/plain": [
       "<Figure size 640x480 with 1 Axes>"
      ]
     },
     "metadata": {},
     "output_type": "display_data"
    }
   ],
   "source": [
    "type=data['Fuel_Type'].value_counts() \n",
    "labels = type.index\n",
    "values = type.values\n",
    "plt.xlabel(\"Fuel_Types\")\n",
    "plt.ylabel(\"values\")\n",
    "plt.title(\"Bar graph\")\n",
    "plt.bar(labels,values)\n",
    "plt.show()"
   ]
  },
  {
   "cell_type": "code",
   "execution_count": 24,
   "id": "6cd71979-c4ef-48d9-b3b7-22f0d736973e",
   "metadata": {},
   "outputs": [
    {
     "data": {
      "image/png": "[encoded data removed]",
      "text/plain": [
       "<Figure size 640x480 with 1 Axes>"
      ]
     },
     "metadata": {},
     "output_type": "display_data"
    }
   ],
   "source": [
    "type=data['Fuel_Type'].value_counts() \n",
    "labels = type.index\n",
    "values = type.values\n",
    "plt.pie(values, labels=labels)\n",
    "plt.show()"
   ]
  },
  {
   "cell_type": "code",
   "execution_count": 25,
   "id": "3d2b03bf-964a-451e-b3aa-a0de261718a9",
   "metadata": {},
   "outputs": [
    {
     "data": {
      "image/png": "[encoded data removed]",
      "text/plain": [
       "<Figure size 640x480 with 1 Axes>"
      ]
     },
     "metadata": {},
     "output_type": "display_data"
    }
   ],
   "source": [
    "\n",
    "sns.boxplot(x='Fuel_Type', y='Price', data=data)\n",
    "plt.title('Fuel Type')\n",
    "plt.show()\n"
   ]
  },
  {
   "cell_type": "code",
   "execution_count": 26,
   "id": "0cbabdb9-5164-4ae4-a76b-4f7202ead1bf",
   "metadata": {},
   "outputs": [
    {
     "data": {
      "image/png": "[encoded data removed]",
      "text/plain": [
       "<Figure size 640x480 with 1 Axes>"
      ]
     },
     "metadata": {},
     "output_type": "display_data"
    }
   ],
   "source": [
    "\n",
    "plt.hist(data['Car_Age'], bins=20, color='steelblue')\n",
    "plt.title('Car age')\n",
    "plt.xlabel('age')\n",
    "plt.ylabel('Frequency')\n",
    "plt.show()"
   ]
  },
  {
   "cell_type": "code",
   "execution_count": 27,
   "id": "0b33d6eb-9b04-4dee-a956-5196759e9ce7",
   "metadata": {},
   "outputs": [
    {
     "data": {
      "image/png": "[encoded data removed]",
      "text/plain": [
       "<Figure size 640x480 with 1 Axes>"
      ]
     },
     "metadata": {},
     "output_type": "display_data"
    }
   ],
   "source": [
    "type=data['Price'] \n",
    "plt.hist(type,bins=30,color='pink')\n",
    "plt.xlabel('total cars')\n",
    "plt.ylabel('price')\n",
    "plt.show()"
   ]
  },
  {
   "cell_type": "code",
   "execution_count": 28,
   "id": "8f9f4298-9ef5-48c9-a58b-946f19c1bd50",
   "metadata": {},
   "outputs": [
    {
     "data": {
      "image/png": "[encoded data removed]",
      "text/plain": [
       "<Figure size 640x480 with 1 Axes>"
      ]
     },
     "metadata": {},
     "output_type": "display_data"
    }
   ],
   "source": [
    "car_age=data['Car_Age'] \n",
    "car_price=data['Price']\n",
    "plt.scatter(car_age,car_price)\n",
    "plt.title('Scatter plot')\n",
    "plt.xlabel('age')\n",
    "plt.ylabel('price')\n",
    "plt.show()"
   ]
  },
  {
   "cell_type": "code",
   "execution_count": 30,
   "id": "bc81f8e1-9f3d-4062-b8e8-83fe6ec4031b",
   "metadata": {},
   "outputs": [
    {
     "data": {
      "image/png": "[encoded data removed]",
      "text/plain": [
       "<Figure size 640x480 with 1 Axes>"
      ]
     },
     "metadata": {},
     "output_type": "display_data"
    }
   ],
   "source": [
    "for fuel in data['Fuel_Type'].unique():\n",
    "    subset = data[data['Fuel_Type'] == fuel]\n",
    "    plt.hist(subset['Price'], bins=30, label=fuel)\n",
    "\n",
    "plt.xlabel('Price')\n",
    "plt.ylabel('Frequency')\n",
    "plt.title('Price Distribution by Fuel Type')\n",
    "plt.legend()\n",
    "plt.show()\n"
   ]
  },
  {
   "cell_type": "code",
   "execution_count": 34,
   "id": "a577b97f-58ea-4f68-a345-64187f39b808",
   "metadata": {},
   "outputs": [
    {
     "data": {
      "image/png": "[encoded data removed]",
      "text/plain": [
       "<Figure size 640x480 with 1 Axes>"
      ]
     },
     "metadata": {},
     "output_type": "display_data"
    }
   ],
   "source": [
    "type=data['Fuel_Type']\n",
    "ba=data['Price']\n",
    "plt.bar(type,ba,color='purple')\n",
    "plt.xlabel('Price')\n",
    "plt.ylabel('fuel type')\n",
    "plt.title('Price Distribution by Fuel Type')\n",
    "plt.show()"
   ]
  },
  {
   "cell_type": "code",
   "execution_count": null,
   "id": "12885078-ea89-44ac-b5be-897f423dcb29",
   "metadata": {},
   "outputs": [],
   "source": []
  }
 ],
 "metadata": {
  "kernelspec": {
   "display_name": "Python [conda env:base] *",
   "language": "python",
   "name": "conda-base-py"
  },
  "language_info": {
   "codemirror_mode": {
    "name": "ipython",
    "version": 3
   },
   "file_extension": ".py",
   "mimetype": "text/x-python",
   "name": "python",
   "nbconvert_exporter": "python",
   "pygments_lexer": "ipython3",
   "version": "3.13.5"
  }
 },
 "nbformat": 4,
 "nbformat_minor": 5
}
